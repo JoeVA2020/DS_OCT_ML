{
 "cells": [
  {
   "cell_type": "code",
   "execution_count": 149,
   "metadata": {},
   "outputs": [],
   "source": [
    "import numpy as np\n",
    "import pandas as pd\n",
    "import matplotlib.pyplot as plt\n",
    "import seaborn as sns"
   ]
  },
  {
   "cell_type": "code",
   "execution_count": 150,
   "metadata": {},
   "outputs": [
    {
     "data": {
      "text/html": [
       "<div>\n",
       "<style scoped>\n",
       "    .dataframe tbody tr th:only-of-type {\n",
       "        vertical-align: middle;\n",
       "    }\n",
       "\n",
       "    .dataframe tbody tr th {\n",
       "        vertical-align: top;\n",
       "    }\n",
       "\n",
       "    .dataframe thead th {\n",
       "        text-align: right;\n",
       "    }\n",
       "</style>\n",
       "<table border=\"1\" class=\"dataframe\">\n",
       "  <thead>\n",
       "    <tr style=\"text-align: right;\">\n",
       "      <th></th>\n",
       "      <th>culmen_length_mm</th>\n",
       "      <th>culmen_depth_mm</th>\n",
       "      <th>flipper_length_mm</th>\n",
       "      <th>body_mass_g</th>\n",
       "      <th>sex</th>\n",
       "    </tr>\n",
       "  </thead>\n",
       "  <tbody>\n",
       "    <tr>\n",
       "      <th>0</th>\n",
       "      <td>39.1</td>\n",
       "      <td>18.7</td>\n",
       "      <td>181.0</td>\n",
       "      <td>3750.0</td>\n",
       "      <td>MALE</td>\n",
       "    </tr>\n",
       "    <tr>\n",
       "      <th>1</th>\n",
       "      <td>39.5</td>\n",
       "      <td>17.4</td>\n",
       "      <td>186.0</td>\n",
       "      <td>3800.0</td>\n",
       "      <td>FEMALE</td>\n",
       "    </tr>\n",
       "    <tr>\n",
       "      <th>2</th>\n",
       "      <td>40.3</td>\n",
       "      <td>18.0</td>\n",
       "      <td>195.0</td>\n",
       "      <td>3250.0</td>\n",
       "      <td>FEMALE</td>\n",
       "    </tr>\n",
       "    <tr>\n",
       "      <th>3</th>\n",
       "      <td>NaN</td>\n",
       "      <td>NaN</td>\n",
       "      <td>NaN</td>\n",
       "      <td>NaN</td>\n",
       "      <td>NaN</td>\n",
       "    </tr>\n",
       "    <tr>\n",
       "      <th>4</th>\n",
       "      <td>36.7</td>\n",
       "      <td>19.3</td>\n",
       "      <td>193.0</td>\n",
       "      <td>3450.0</td>\n",
       "      <td>FEMALE</td>\n",
       "    </tr>\n",
       "  </tbody>\n",
       "</table>\n",
       "</div>"
      ],
      "text/plain": [
       "   culmen_length_mm  culmen_depth_mm  flipper_length_mm  body_mass_g     sex\n",
       "0              39.1             18.7              181.0       3750.0    MALE\n",
       "1              39.5             17.4              186.0       3800.0  FEMALE\n",
       "2              40.3             18.0              195.0       3250.0  FEMALE\n",
       "3               NaN              NaN                NaN          NaN     NaN\n",
       "4              36.7             19.3              193.0       3450.0  FEMALE"
      ]
     },
     "execution_count": 150,
     "metadata": {},
     "output_type": "execute_result"
    }
   ],
   "source": [
    "df=pd.read_csv('penguins.csv')\n",
    "df.head()"
   ]
  },
  {
   "cell_type": "code",
   "execution_count": 151,
   "metadata": {},
   "outputs": [
    {
     "data": {
      "text/html": [
       "<div>\n",
       "<style scoped>\n",
       "    .dataframe tbody tr th:only-of-type {\n",
       "        vertical-align: middle;\n",
       "    }\n",
       "\n",
       "    .dataframe tbody tr th {\n",
       "        vertical-align: top;\n",
       "    }\n",
       "\n",
       "    .dataframe thead th {\n",
       "        text-align: right;\n",
       "    }\n",
       "</style>\n",
       "<table border=\"1\" class=\"dataframe\">\n",
       "  <thead>\n",
       "    <tr style=\"text-align: right;\">\n",
       "      <th></th>\n",
       "      <th>culmen_length_mm</th>\n",
       "      <th>culmen_depth_mm</th>\n",
       "      <th>flipper_length_mm</th>\n",
       "      <th>body_mass_g</th>\n",
       "      <th>sex</th>\n",
       "    </tr>\n",
       "  </thead>\n",
       "  <tbody>\n",
       "    <tr>\n",
       "      <th>339</th>\n",
       "      <td>NaN</td>\n",
       "      <td>NaN</td>\n",
       "      <td>NaN</td>\n",
       "      <td>NaN</td>\n",
       "      <td>NaN</td>\n",
       "    </tr>\n",
       "    <tr>\n",
       "      <th>340</th>\n",
       "      <td>46.8</td>\n",
       "      <td>14.3</td>\n",
       "      <td>215.0</td>\n",
       "      <td>4850.0</td>\n",
       "      <td>FEMALE</td>\n",
       "    </tr>\n",
       "    <tr>\n",
       "      <th>341</th>\n",
       "      <td>50.4</td>\n",
       "      <td>15.7</td>\n",
       "      <td>222.0</td>\n",
       "      <td>5750.0</td>\n",
       "      <td>MALE</td>\n",
       "    </tr>\n",
       "    <tr>\n",
       "      <th>342</th>\n",
       "      <td>45.2</td>\n",
       "      <td>14.8</td>\n",
       "      <td>212.0</td>\n",
       "      <td>5200.0</td>\n",
       "      <td>FEMALE</td>\n",
       "    </tr>\n",
       "    <tr>\n",
       "      <th>343</th>\n",
       "      <td>49.9</td>\n",
       "      <td>16.1</td>\n",
       "      <td>213.0</td>\n",
       "      <td>5400.0</td>\n",
       "      <td>MALE</td>\n",
       "    </tr>\n",
       "  </tbody>\n",
       "</table>\n",
       "</div>"
      ],
      "text/plain": [
       "     culmen_length_mm  culmen_depth_mm  flipper_length_mm  body_mass_g     sex\n",
       "339               NaN              NaN                NaN          NaN     NaN\n",
       "340              46.8             14.3              215.0       4850.0  FEMALE\n",
       "341              50.4             15.7              222.0       5750.0    MALE\n",
       "342              45.2             14.8              212.0       5200.0  FEMALE\n",
       "343              49.9             16.1              213.0       5400.0    MALE"
      ]
     },
     "execution_count": 151,
     "metadata": {},
     "output_type": "execute_result"
    }
   ],
   "source": [
    "df.tail()"
   ]
  },
  {
   "cell_type": "code",
   "execution_count": 152,
   "metadata": {},
   "outputs": [
    {
     "data": {
      "text/plain": [
       "culmen_length_mm     float64\n",
       "culmen_depth_mm      float64\n",
       "flipper_length_mm    float64\n",
       "body_mass_g          float64\n",
       "sex                   object\n",
       "dtype: object"
      ]
     },
     "execution_count": 152,
     "metadata": {},
     "output_type": "execute_result"
    }
   ],
   "source": [
    "df.dtypes"
   ]
  },
  {
   "cell_type": "code",
   "execution_count": 153,
   "metadata": {},
   "outputs": [
    {
     "data": {
      "text/plain": [
       "culmen_length_mm     2\n",
       "culmen_depth_mm      2\n",
       "flipper_length_mm    2\n",
       "body_mass_g          2\n",
       "sex                  9\n",
       "dtype: int64"
      ]
     },
     "execution_count": 153,
     "metadata": {},
     "output_type": "execute_result"
    }
   ],
   "source": [
    "df.isna().sum()"
   ]
  },
  {
   "cell_type": "code",
   "execution_count": 154,
   "metadata": {},
   "outputs": [
    {
     "data": {
      "text/plain": [
       "culmen_length_mm     0\n",
       "culmen_depth_mm      0\n",
       "flipper_length_mm    0\n",
       "body_mass_g          0\n",
       "sex                  0\n",
       "dtype: int64"
      ]
     },
     "execution_count": 154,
     "metadata": {},
     "output_type": "execute_result"
    }
   ],
   "source": [
    "df['culmen_length_mm']=df['culmen_length_mm'].fillna(df['culmen_length_mm'].mean())\n",
    "df['culmen_depth_mm']=df['culmen_depth_mm'].fillna(df['culmen_depth_mm'].mean())\n",
    "df['body_mass_g']=df['body_mass_g'].fillna(df['body_mass_g'].mean())\n",
    "df['flipper_length_mm']=df['flipper_length_mm'].fillna(df['flipper_length_mm'].mean())\n",
    "df['sex']=df['sex'].fillna(df['sex'].mode()[0])\n",
    "df.isna().sum()"
   ]
  },
  {
   "cell_type": "markdown",
   "metadata": {},
   "source": [
    "#### Encoding "
   ]
  },
  {
   "cell_type": "code",
   "execution_count": 155,
   "metadata": {},
   "outputs": [
    {
     "data": {
      "text/html": [
       "<div>\n",
       "<style scoped>\n",
       "    .dataframe tbody tr th:only-of-type {\n",
       "        vertical-align: middle;\n",
       "    }\n",
       "\n",
       "    .dataframe tbody tr th {\n",
       "        vertical-align: top;\n",
       "    }\n",
       "\n",
       "    .dataframe thead th {\n",
       "        text-align: right;\n",
       "    }\n",
       "</style>\n",
       "<table border=\"1\" class=\"dataframe\">\n",
       "  <thead>\n",
       "    <tr style=\"text-align: right;\">\n",
       "      <th></th>\n",
       "      <th>FEMALE</th>\n",
       "      <th>MALE</th>\n",
       "    </tr>\n",
       "  </thead>\n",
       "  <tbody>\n",
       "    <tr>\n",
       "      <th>0</th>\n",
       "      <td>0</td>\n",
       "      <td>1</td>\n",
       "    </tr>\n",
       "    <tr>\n",
       "      <th>1</th>\n",
       "      <td>1</td>\n",
       "      <td>0</td>\n",
       "    </tr>\n",
       "    <tr>\n",
       "      <th>2</th>\n",
       "      <td>1</td>\n",
       "      <td>0</td>\n",
       "    </tr>\n",
       "    <tr>\n",
       "      <th>3</th>\n",
       "      <td>0</td>\n",
       "      <td>1</td>\n",
       "    </tr>\n",
       "    <tr>\n",
       "      <th>4</th>\n",
       "      <td>1</td>\n",
       "      <td>0</td>\n",
       "    </tr>\n",
       "    <tr>\n",
       "      <th>...</th>\n",
       "      <td>...</td>\n",
       "      <td>...</td>\n",
       "    </tr>\n",
       "    <tr>\n",
       "      <th>339</th>\n",
       "      <td>0</td>\n",
       "      <td>1</td>\n",
       "    </tr>\n",
       "    <tr>\n",
       "      <th>340</th>\n",
       "      <td>1</td>\n",
       "      <td>0</td>\n",
       "    </tr>\n",
       "    <tr>\n",
       "      <th>341</th>\n",
       "      <td>0</td>\n",
       "      <td>1</td>\n",
       "    </tr>\n",
       "    <tr>\n",
       "      <th>342</th>\n",
       "      <td>1</td>\n",
       "      <td>0</td>\n",
       "    </tr>\n",
       "    <tr>\n",
       "      <th>343</th>\n",
       "      <td>0</td>\n",
       "      <td>1</td>\n",
       "    </tr>\n",
       "  </tbody>\n",
       "</table>\n",
       "<p>344 rows × 2 columns</p>\n",
       "</div>"
      ],
      "text/plain": [
       "     FEMALE  MALE\n",
       "0         0     1\n",
       "1         1     0\n",
       "2         1     0\n",
       "3         0     1\n",
       "4         1     0\n",
       "..      ...   ...\n",
       "339       0     1\n",
       "340       1     0\n",
       "341       0     1\n",
       "342       1     0\n",
       "343       0     1\n",
       "\n",
       "[344 rows x 2 columns]"
      ]
     },
     "execution_count": 155,
     "metadata": {},
     "output_type": "execute_result"
    }
   ],
   "source": [
    "dfe=pd.get_dummies(df['sex'],drop_first=True,dtype=int)\n",
    "dfe"
   ]
  },
  {
   "cell_type": "code",
   "execution_count": 156,
   "metadata": {},
   "outputs": [
    {
     "data": {
      "text/html": [
       "<div>\n",
       "<style scoped>\n",
       "    .dataframe tbody tr th:only-of-type {\n",
       "        vertical-align: middle;\n",
       "    }\n",
       "\n",
       "    .dataframe tbody tr th {\n",
       "        vertical-align: top;\n",
       "    }\n",
       "\n",
       "    .dataframe thead th {\n",
       "        text-align: right;\n",
       "    }\n",
       "</style>\n",
       "<table border=\"1\" class=\"dataframe\">\n",
       "  <thead>\n",
       "    <tr style=\"text-align: right;\">\n",
       "      <th></th>\n",
       "      <th>culmen_length_mm</th>\n",
       "      <th>culmen_depth_mm</th>\n",
       "      <th>flipper_length_mm</th>\n",
       "      <th>body_mass_g</th>\n",
       "      <th>sex</th>\n",
       "      <th>FEMALE</th>\n",
       "      <th>MALE</th>\n",
       "    </tr>\n",
       "  </thead>\n",
       "  <tbody>\n",
       "    <tr>\n",
       "      <th>0</th>\n",
       "      <td>39.10000</td>\n",
       "      <td>18.70000</td>\n",
       "      <td>181.00000</td>\n",
       "      <td>3750.000000</td>\n",
       "      <td>MALE</td>\n",
       "      <td>0</td>\n",
       "      <td>1</td>\n",
       "    </tr>\n",
       "    <tr>\n",
       "      <th>1</th>\n",
       "      <td>39.50000</td>\n",
       "      <td>17.40000</td>\n",
       "      <td>186.00000</td>\n",
       "      <td>3800.000000</td>\n",
       "      <td>FEMALE</td>\n",
       "      <td>1</td>\n",
       "      <td>0</td>\n",
       "    </tr>\n",
       "    <tr>\n",
       "      <th>2</th>\n",
       "      <td>40.30000</td>\n",
       "      <td>18.00000</td>\n",
       "      <td>195.00000</td>\n",
       "      <td>3250.000000</td>\n",
       "      <td>FEMALE</td>\n",
       "      <td>1</td>\n",
       "      <td>0</td>\n",
       "    </tr>\n",
       "    <tr>\n",
       "      <th>3</th>\n",
       "      <td>43.92193</td>\n",
       "      <td>17.15117</td>\n",
       "      <td>214.01462</td>\n",
       "      <td>4201.754386</td>\n",
       "      <td>MALE</td>\n",
       "      <td>0</td>\n",
       "      <td>1</td>\n",
       "    </tr>\n",
       "    <tr>\n",
       "      <th>4</th>\n",
       "      <td>36.70000</td>\n",
       "      <td>19.30000</td>\n",
       "      <td>193.00000</td>\n",
       "      <td>3450.000000</td>\n",
       "      <td>FEMALE</td>\n",
       "      <td>1</td>\n",
       "      <td>0</td>\n",
       "    </tr>\n",
       "    <tr>\n",
       "      <th>...</th>\n",
       "      <td>...</td>\n",
       "      <td>...</td>\n",
       "      <td>...</td>\n",
       "      <td>...</td>\n",
       "      <td>...</td>\n",
       "      <td>...</td>\n",
       "      <td>...</td>\n",
       "    </tr>\n",
       "    <tr>\n",
       "      <th>339</th>\n",
       "      <td>43.92193</td>\n",
       "      <td>17.15117</td>\n",
       "      <td>214.01462</td>\n",
       "      <td>4201.754386</td>\n",
       "      <td>MALE</td>\n",
       "      <td>0</td>\n",
       "      <td>1</td>\n",
       "    </tr>\n",
       "    <tr>\n",
       "      <th>340</th>\n",
       "      <td>46.80000</td>\n",
       "      <td>14.30000</td>\n",
       "      <td>215.00000</td>\n",
       "      <td>4850.000000</td>\n",
       "      <td>FEMALE</td>\n",
       "      <td>1</td>\n",
       "      <td>0</td>\n",
       "    </tr>\n",
       "    <tr>\n",
       "      <th>341</th>\n",
       "      <td>50.40000</td>\n",
       "      <td>15.70000</td>\n",
       "      <td>222.00000</td>\n",
       "      <td>5750.000000</td>\n",
       "      <td>MALE</td>\n",
       "      <td>0</td>\n",
       "      <td>1</td>\n",
       "    </tr>\n",
       "    <tr>\n",
       "      <th>342</th>\n",
       "      <td>45.20000</td>\n",
       "      <td>14.80000</td>\n",
       "      <td>212.00000</td>\n",
       "      <td>5200.000000</td>\n",
       "      <td>FEMALE</td>\n",
       "      <td>1</td>\n",
       "      <td>0</td>\n",
       "    </tr>\n",
       "    <tr>\n",
       "      <th>343</th>\n",
       "      <td>49.90000</td>\n",
       "      <td>16.10000</td>\n",
       "      <td>213.00000</td>\n",
       "      <td>5400.000000</td>\n",
       "      <td>MALE</td>\n",
       "      <td>0</td>\n",
       "      <td>1</td>\n",
       "    </tr>\n",
       "  </tbody>\n",
       "</table>\n",
       "<p>344 rows × 7 columns</p>\n",
       "</div>"
      ],
      "text/plain": [
       "     culmen_length_mm  culmen_depth_mm  flipper_length_mm  body_mass_g  \\\n",
       "0            39.10000         18.70000          181.00000  3750.000000   \n",
       "1            39.50000         17.40000          186.00000  3800.000000   \n",
       "2            40.30000         18.00000          195.00000  3250.000000   \n",
       "3            43.92193         17.15117          214.01462  4201.754386   \n",
       "4            36.70000         19.30000          193.00000  3450.000000   \n",
       "..                ...              ...                ...          ...   \n",
       "339          43.92193         17.15117          214.01462  4201.754386   \n",
       "340          46.80000         14.30000          215.00000  4850.000000   \n",
       "341          50.40000         15.70000          222.00000  5750.000000   \n",
       "342          45.20000         14.80000          212.00000  5200.000000   \n",
       "343          49.90000         16.10000          213.00000  5400.000000   \n",
       "\n",
       "        sex  FEMALE  MALE  \n",
       "0      MALE       0     1  \n",
       "1    FEMALE       1     0  \n",
       "2    FEMALE       1     0  \n",
       "3      MALE       0     1  \n",
       "4    FEMALE       1     0  \n",
       "..      ...     ...   ...  \n",
       "339    MALE       0     1  \n",
       "340  FEMALE       1     0  \n",
       "341    MALE       0     1  \n",
       "342  FEMALE       1     0  \n",
       "343    MALE       0     1  \n",
       "\n",
       "[344 rows x 7 columns]"
      ]
     },
     "execution_count": 156,
     "metadata": {},
     "output_type": "execute_result"
    }
   ],
   "source": [
    "df_encoded=pd.concat((df,dfe),axis=1)\n",
    "df_encoded"
   ]
  },
  {
   "cell_type": "code",
   "execution_count": 157,
   "metadata": {},
   "outputs": [
    {
     "data": {
      "text/html": [
       "<div>\n",
       "<style scoped>\n",
       "    .dataframe tbody tr th:only-of-type {\n",
       "        vertical-align: middle;\n",
       "    }\n",
       "\n",
       "    .dataframe tbody tr th {\n",
       "        vertical-align: top;\n",
       "    }\n",
       "\n",
       "    .dataframe thead th {\n",
       "        text-align: right;\n",
       "    }\n",
       "</style>\n",
       "<table border=\"1\" class=\"dataframe\">\n",
       "  <thead>\n",
       "    <tr style=\"text-align: right;\">\n",
       "      <th></th>\n",
       "      <th>culmen_length_mm</th>\n",
       "      <th>culmen_depth_mm</th>\n",
       "      <th>flipper_length_mm</th>\n",
       "      <th>body_mass_g</th>\n",
       "      <th>FEMALE</th>\n",
       "      <th>MALE</th>\n",
       "    </tr>\n",
       "  </thead>\n",
       "  <tbody>\n",
       "    <tr>\n",
       "      <th>0</th>\n",
       "      <td>39.10000</td>\n",
       "      <td>18.70000</td>\n",
       "      <td>181.00000</td>\n",
       "      <td>3750.000000</td>\n",
       "      <td>0</td>\n",
       "      <td>1</td>\n",
       "    </tr>\n",
       "    <tr>\n",
       "      <th>1</th>\n",
       "      <td>39.50000</td>\n",
       "      <td>17.40000</td>\n",
       "      <td>186.00000</td>\n",
       "      <td>3800.000000</td>\n",
       "      <td>1</td>\n",
       "      <td>0</td>\n",
       "    </tr>\n",
       "    <tr>\n",
       "      <th>2</th>\n",
       "      <td>40.30000</td>\n",
       "      <td>18.00000</td>\n",
       "      <td>195.00000</td>\n",
       "      <td>3250.000000</td>\n",
       "      <td>1</td>\n",
       "      <td>0</td>\n",
       "    </tr>\n",
       "    <tr>\n",
       "      <th>3</th>\n",
       "      <td>43.92193</td>\n",
       "      <td>17.15117</td>\n",
       "      <td>214.01462</td>\n",
       "      <td>4201.754386</td>\n",
       "      <td>0</td>\n",
       "      <td>1</td>\n",
       "    </tr>\n",
       "    <tr>\n",
       "      <th>4</th>\n",
       "      <td>36.70000</td>\n",
       "      <td>19.30000</td>\n",
       "      <td>193.00000</td>\n",
       "      <td>3450.000000</td>\n",
       "      <td>1</td>\n",
       "      <td>0</td>\n",
       "    </tr>\n",
       "    <tr>\n",
       "      <th>...</th>\n",
       "      <td>...</td>\n",
       "      <td>...</td>\n",
       "      <td>...</td>\n",
       "      <td>...</td>\n",
       "      <td>...</td>\n",
       "      <td>...</td>\n",
       "    </tr>\n",
       "    <tr>\n",
       "      <th>339</th>\n",
       "      <td>43.92193</td>\n",
       "      <td>17.15117</td>\n",
       "      <td>214.01462</td>\n",
       "      <td>4201.754386</td>\n",
       "      <td>0</td>\n",
       "      <td>1</td>\n",
       "    </tr>\n",
       "    <tr>\n",
       "      <th>340</th>\n",
       "      <td>46.80000</td>\n",
       "      <td>14.30000</td>\n",
       "      <td>215.00000</td>\n",
       "      <td>4850.000000</td>\n",
       "      <td>1</td>\n",
       "      <td>0</td>\n",
       "    </tr>\n",
       "    <tr>\n",
       "      <th>341</th>\n",
       "      <td>50.40000</td>\n",
       "      <td>15.70000</td>\n",
       "      <td>222.00000</td>\n",
       "      <td>5750.000000</td>\n",
       "      <td>0</td>\n",
       "      <td>1</td>\n",
       "    </tr>\n",
       "    <tr>\n",
       "      <th>342</th>\n",
       "      <td>45.20000</td>\n",
       "      <td>14.80000</td>\n",
       "      <td>212.00000</td>\n",
       "      <td>5200.000000</td>\n",
       "      <td>1</td>\n",
       "      <td>0</td>\n",
       "    </tr>\n",
       "    <tr>\n",
       "      <th>343</th>\n",
       "      <td>49.90000</td>\n",
       "      <td>16.10000</td>\n",
       "      <td>213.00000</td>\n",
       "      <td>5400.000000</td>\n",
       "      <td>0</td>\n",
       "      <td>1</td>\n",
       "    </tr>\n",
       "  </tbody>\n",
       "</table>\n",
       "<p>344 rows × 6 columns</p>\n",
       "</div>"
      ],
      "text/plain": [
       "     culmen_length_mm  culmen_depth_mm  flipper_length_mm  body_mass_g  \\\n",
       "0            39.10000         18.70000          181.00000  3750.000000   \n",
       "1            39.50000         17.40000          186.00000  3800.000000   \n",
       "2            40.30000         18.00000          195.00000  3250.000000   \n",
       "3            43.92193         17.15117          214.01462  4201.754386   \n",
       "4            36.70000         19.30000          193.00000  3450.000000   \n",
       "..                ...              ...                ...          ...   \n",
       "339          43.92193         17.15117          214.01462  4201.754386   \n",
       "340          46.80000         14.30000          215.00000  4850.000000   \n",
       "341          50.40000         15.70000          222.00000  5750.000000   \n",
       "342          45.20000         14.80000          212.00000  5200.000000   \n",
       "343          49.90000         16.10000          213.00000  5400.000000   \n",
       "\n",
       "     FEMALE  MALE  \n",
       "0         0     1  \n",
       "1         1     0  \n",
       "2         1     0  \n",
       "3         0     1  \n",
       "4         1     0  \n",
       "..      ...   ...  \n",
       "339       0     1  \n",
       "340       1     0  \n",
       "341       0     1  \n",
       "342       1     0  \n",
       "343       0     1  \n",
       "\n",
       "[344 rows x 6 columns]"
      ]
     },
     "execution_count": 157,
     "metadata": {},
     "output_type": "execute_result"
    }
   ],
   "source": [
    "df_encoded.drop('sex',axis=1,inplace=True)\n",
    "df_encoded"
   ]
  },
  {
   "cell_type": "code",
   "execution_count": 158,
   "metadata": {},
   "outputs": [
    {
     "data": {
      "text/plain": [
       "[242470024.08828703,\n",
       " 82477910.97621548,\n",
       " 59059852.37764888,\n",
       " 29386681.18820126,\n",
       " 16600905.368530413,\n",
       " 11416225.082842724,\n",
       " 8504811.239074808,\n",
       " 7128748.917656293,\n",
       " 4827902.112410134,\n",
       " 3728122.81703898]"
      ]
     },
     "execution_count": 158,
     "metadata": {},
     "output_type": "execute_result"
    }
   ],
   "source": [
    "from sklearn.cluster import KMeans\n",
    "\n",
    "wcss=[]\n",
    "for i in range(1,11):\n",
    "    data=KMeans(n_clusters=i,init='k-means++',random_state=42)\n",
    "    data.fit(df_encoded)\n",
    "    wcss.append(data.inertia_)\n",
    "wcss"
   ]
  },
  {
   "cell_type": "code",
   "execution_count": 159,
   "metadata": {},
   "outputs": [
    {
     "data": {
      "image/png": "[encoded data removed]",
      "text/plain": [
       "<Figure size 640x480 with 1 Axes>"
      ]
     },
     "metadata": {},
     "output_type": "display_data"
    }
   ],
   "source": [
    "plt.plot(range(1,11),wcss,marker='o')\n",
    "plt.title('Elbow Joint Graph')\n",
    "plt.xlabel('Clusters')\n",
    "plt.ylabel('Varience')\n",
    "plt.xticks(range(1,11))\n",
    "plt.grid()\n",
    "plt.show()"
   ]
  },
  {
   "cell_type": "code",
   "execution_count": 160,
   "metadata": {},
   "outputs": [
    {
     "data": {
      "text/plain": [
       "array([4, 4, 0, 5, 4, 4, 4, 1, 4, 2, 0, 4, 0, 4, 5, 4, 4, 1, 0, 5, 4, 4,\n",
       "       4, 5, 4, 4, 4, 0, 0, 5, 0, 5, 0, 5, 0, 5, 5, 4, 0, 1, 0, 5, 0, 5,\n",
       "       0, 1, 4, 0, 4, 5, 4, 5, 4, 5, 0, 4, 4, 4, 0, 4, 0, 5, 4, 5, 0, 5,\n",
       "       0, 5, 0, 1, 4, 5, 4, 5, 4, 5, 4, 5, 4, 5, 0, 1, 4, 5, 0, 4, 4, 4,\n",
       "       5, 4, 4, 5, 4, 1, 0, 5, 4, 5, 0, 5, 4, 1, 0, 5, 0, 4, 4, 5, 0, 1,\n",
       "       4, 1, 0, 5, 5, 5, 0, 4, 0, 0, 0, 4, 4, 5, 0, 5, 0, 5, 0, 5, 0, 4,\n",
       "       4, 1, 4, 5, 0, 5, 4, 5, 4, 4, 0, 4, 0, 4, 5, 4, 4, 4, 4, 5, 4, 5,\n",
       "       4, 4, 4, 5, 0, 4, 5, 4, 4, 4, 4, 5, 4, 5, 0, 4, 4, 5, 4, 4, 0, 4,\n",
       "       0, 5, 4, 4, 4, 1, 0, 5, 0, 5, 4, 5, 4, 1, 0, 1, 5, 4, 4, 4, 4, 1,\n",
       "       4, 5, 0, 4, 0, 5, 4, 5, 0, 4, 0, 5, 4, 4, 5, 4, 4, 5, 4, 4, 5, 4,\n",
       "       1, 3, 1, 3, 6, 1, 1, 6, 5, 6, 1, 3, 1, 3, 5, 3, 5, 3, 1, 6, 3, 6,\n",
       "       5, 6, 6, 6, 5, 3, 1, 3, 6, 1, 6, 3, 6, 6, 6, 6, 5, 6, 5, 3, 5, 1,\n",
       "       3, 1, 5, 6, 6, 6, 1, 6, 5, 6, 1, 6, 5, 6, 1, 3, 5, 6, 5, 3, 1, 3,\n",
       "       1, 3, 1, 3, 1, 6, 6, 6, 1, 3, 1, 3, 1, 3, 1, 3, 1, 6, 1, 3, 1, 6,\n",
       "       1, 3, 6, 6, 1, 3, 1, 6, 6, 1, 1, 6, 1, 3, 6, 3, 1, 3, 1, 3, 1, 3,\n",
       "       6, 3, 1, 3, 5, 3, 1, 3, 6, 5, 1, 3, 6, 6], dtype=int32)"
      ]
     },
     "execution_count": 160,
     "metadata": {},
     "output_type": "execute_result"
    }
   ],
   "source": [
    "data=KMeans(n_clusters=7,init='k-means++',random_state=42)\n",
    "data.fit(df_encoded)\n",
    "y_pred=data.predict(df_encoded)\n",
    "y_pred"
   ]
  },
  {
   "cell_type": "code",
   "execution_count": 161,
   "metadata": {},
   "outputs": [
    {
     "data": {
      "text/html": [
       "<div>\n",
       "<style scoped>\n",
       "    .dataframe tbody tr th:only-of-type {\n",
       "        vertical-align: middle;\n",
       "    }\n",
       "\n",
       "    .dataframe tbody tr th {\n",
       "        vertical-align: top;\n",
       "    }\n",
       "\n",
       "    .dataframe thead th {\n",
       "        text-align: right;\n",
       "    }\n",
       "</style>\n",
       "<table border=\"1\" class=\"dataframe\">\n",
       "  <thead>\n",
       "    <tr style=\"text-align: right;\">\n",
       "      <th></th>\n",
       "      <th>culmen_length_mm</th>\n",
       "      <th>culmen_depth_mm</th>\n",
       "      <th>flipper_length_mm</th>\n",
       "      <th>body_mass_g</th>\n",
       "      <th>FEMALE</th>\n",
       "      <th>MALE</th>\n",
       "      <th>cluster</th>\n",
       "    </tr>\n",
       "  </thead>\n",
       "  <tbody>\n",
       "    <tr>\n",
       "      <th>0</th>\n",
       "      <td>39.10000</td>\n",
       "      <td>18.70000</td>\n",
       "      <td>181.00000</td>\n",
       "      <td>3750.000000</td>\n",
       "      <td>0</td>\n",
       "      <td>1</td>\n",
       "      <td>4</td>\n",
       "    </tr>\n",
       "    <tr>\n",
       "      <th>1</th>\n",
       "      <td>39.50000</td>\n",
       "      <td>17.40000</td>\n",
       "      <td>186.00000</td>\n",
       "      <td>3800.000000</td>\n",
       "      <td>1</td>\n",
       "      <td>0</td>\n",
       "      <td>4</td>\n",
       "    </tr>\n",
       "    <tr>\n",
       "      <th>2</th>\n",
       "      <td>40.30000</td>\n",
       "      <td>18.00000</td>\n",
       "      <td>195.00000</td>\n",
       "      <td>3250.000000</td>\n",
       "      <td>1</td>\n",
       "      <td>0</td>\n",
       "      <td>0</td>\n",
       "    </tr>\n",
       "    <tr>\n",
       "      <th>3</th>\n",
       "      <td>43.92193</td>\n",
       "      <td>17.15117</td>\n",
       "      <td>214.01462</td>\n",
       "      <td>4201.754386</td>\n",
       "      <td>0</td>\n",
       "      <td>1</td>\n",
       "      <td>5</td>\n",
       "    </tr>\n",
       "    <tr>\n",
       "      <th>4</th>\n",
       "      <td>36.70000</td>\n",
       "      <td>19.30000</td>\n",
       "      <td>193.00000</td>\n",
       "      <td>3450.000000</td>\n",
       "      <td>1</td>\n",
       "      <td>0</td>\n",
       "      <td>4</td>\n",
       "    </tr>\n",
       "    <tr>\n",
       "      <th>...</th>\n",
       "      <td>...</td>\n",
       "      <td>...</td>\n",
       "      <td>...</td>\n",
       "      <td>...</td>\n",
       "      <td>...</td>\n",
       "      <td>...</td>\n",
       "      <td>...</td>\n",
       "    </tr>\n",
       "    <tr>\n",
       "      <th>339</th>\n",
       "      <td>43.92193</td>\n",
       "      <td>17.15117</td>\n",
       "      <td>214.01462</td>\n",
       "      <td>4201.754386</td>\n",
       "      <td>0</td>\n",
       "      <td>1</td>\n",
       "      <td>5</td>\n",
       "    </tr>\n",
       "    <tr>\n",
       "      <th>340</th>\n",
       "      <td>46.80000</td>\n",
       "      <td>14.30000</td>\n",
       "      <td>215.00000</td>\n",
       "      <td>4850.000000</td>\n",
       "      <td>1</td>\n",
       "      <td>0</td>\n",
       "      <td>1</td>\n",
       "    </tr>\n",
       "    <tr>\n",
       "      <th>341</th>\n",
       "      <td>50.40000</td>\n",
       "      <td>15.70000</td>\n",
       "      <td>222.00000</td>\n",
       "      <td>5750.000000</td>\n",
       "      <td>0</td>\n",
       "      <td>1</td>\n",
       "      <td>3</td>\n",
       "    </tr>\n",
       "    <tr>\n",
       "      <th>342</th>\n",
       "      <td>45.20000</td>\n",
       "      <td>14.80000</td>\n",
       "      <td>212.00000</td>\n",
       "      <td>5200.000000</td>\n",
       "      <td>1</td>\n",
       "      <td>0</td>\n",
       "      <td>6</td>\n",
       "    </tr>\n",
       "    <tr>\n",
       "      <th>343</th>\n",
       "      <td>49.90000</td>\n",
       "      <td>16.10000</td>\n",
       "      <td>213.00000</td>\n",
       "      <td>5400.000000</td>\n",
       "      <td>0</td>\n",
       "      <td>1</td>\n",
       "      <td>6</td>\n",
       "    </tr>\n",
       "  </tbody>\n",
       "</table>\n",
       "<p>344 rows × 7 columns</p>\n",
       "</div>"
      ],
      "text/plain": [
       "     culmen_length_mm  culmen_depth_mm  flipper_length_mm  body_mass_g  \\\n",
       "0            39.10000         18.70000          181.00000  3750.000000   \n",
       "1            39.50000         17.40000          186.00000  3800.000000   \n",
       "2            40.30000         18.00000          195.00000  3250.000000   \n",
       "3            43.92193         17.15117          214.01462  4201.754386   \n",
       "4            36.70000         19.30000          193.00000  3450.000000   \n",
       "..                ...              ...                ...          ...   \n",
       "339          43.92193         17.15117          214.01462  4201.754386   \n",
       "340          46.80000         14.30000          215.00000  4850.000000   \n",
       "341          50.40000         15.70000          222.00000  5750.000000   \n",
       "342          45.20000         14.80000          212.00000  5200.000000   \n",
       "343          49.90000         16.10000          213.00000  5400.000000   \n",
       "\n",
       "     FEMALE  MALE  cluster  \n",
       "0         0     1        4  \n",
       "1         1     0        4  \n",
       "2         1     0        0  \n",
       "3         0     1        5  \n",
       "4         1     0        4  \n",
       "..      ...   ...      ...  \n",
       "339       0     1        5  \n",
       "340       1     0        1  \n",
       "341       0     1        3  \n",
       "342       1     0        6  \n",
       "343       0     1        6  \n",
       "\n",
       "[344 rows x 7 columns]"
      ]
     },
     "execution_count": 161,
     "metadata": {},
     "output_type": "execute_result"
    }
   ],
   "source": [
    "df_encoded['cluster']=y_pred\n",
    "df_encoded"
   ]
  },
  {
   "cell_type": "code",
   "execution_count": 162,
   "metadata": {},
   "outputs": [
    {
     "data": {
      "image/png": "[encoded data removed]",
      "text/plain": [
       "<Figure size 2000x2000 with 1 Axes>"
      ]
     },
     "metadata": {},
     "output_type": "display_data"
    }
   ],
   "source": [
    "plt.figure(figsize=(20,20))\n",
    "sns.boxplot(df_encoded)\n",
    "plt.show()"
   ]
  },
  {
   "cell_type": "code",
   "execution_count": 163,
   "metadata": {},
   "outputs": [],
   "source": [
    "x=df_encoded.iloc[:,:-1].values\n",
    "y=df_encoded.iloc[:,-1].values"
   ]
  },
  {
   "cell_type": "code",
   "execution_count": 164,
   "metadata": {},
   "outputs": [
    {
     "data": {
      "text/plain": [
       "cluster\n",
       "4    93\n",
       "5    76\n",
       "1    52\n",
       "0    50\n",
       "6    38\n",
       "3    34\n",
       "2     1\n",
       "Name: count, dtype: int64"
      ]
     },
     "execution_count": 164,
     "metadata": {},
     "output_type": "execute_result"
    }
   ],
   "source": [
    "df_encoded['cluster'].value_counts()"
   ]
  },
  {
   "cell_type": "code",
   "execution_count": 165,
   "metadata": {},
   "outputs": [
    {
     "data": {
      "text/plain": [
       "array([5, 6, 6, 5, 6, 0, 5, 4, 1, 1, 4, 4, 6, 1, 1, 0, 4, 6, 1, 4, 6, 0,\n",
       "       1, 5, 1, 0, 5, 1, 3, 3, 1, 4, 1, 3, 4, 5, 5, 0, 0, 5, 4, 0, 4, 5,\n",
       "       1, 4, 5, 5, 5, 4, 1, 4, 6, 4, 3, 1, 6, 0, 3, 5, 0, 3, 6, 5, 0, 3,\n",
       "       1, 4, 1, 3, 3, 6, 4, 5, 3, 4, 5, 0, 5, 5, 6, 0, 1, 3, 5, 4, 1, 5,\n",
       "       5, 3, 5, 4, 5, 1, 0, 3, 0, 6, 5, 3, 4, 4, 4, 4, 0, 5, 0, 4, 0, 1,\n",
       "       4, 1, 5, 5, 1, 4, 4, 5, 5, 4, 6, 0, 0, 4, 3, 4, 1, 4, 4, 1, 1, 1,\n",
       "       4, 1, 5, 3, 5, 4, 5, 5, 0, 5, 5, 5, 4, 5, 0, 0, 1, 4, 1, 0, 6, 0,\n",
       "       6, 1, 4, 1, 4, 4, 5, 0, 4, 0, 5, 4, 0, 6, 3, 4, 1, 5, 4, 5, 6, 1,\n",
       "       3, 1, 6, 4, 4, 5, 4, 0, 6, 4, 5, 4, 5, 0, 5, 0, 1, 5, 4, 3, 6, 4,\n",
       "       5, 6, 4, 6, 4, 1, 5, 6, 0, 4, 0, 1, 6, 5, 4, 0, 4, 3, 6, 4, 3, 5,\n",
       "       5, 1, 6, 6, 1, 4, 0, 5, 5, 4, 6, 4, 4, 6, 4, 4, 5, 4, 1, 0],\n",
       "      dtype=int32)"
      ]
     },
     "execution_count": 165,
     "metadata": {},
     "output_type": "execute_result"
    }
   ],
   "source": [
    "from sklearn.model_selection import train_test_split\n",
    "x_train,x_test,y_train,y_test=train_test_split(x,y,test_size=0.30,random_state=42)\n",
    "y_train"
   ]
  },
  {
   "cell_type": "code",
   "execution_count": 166,
   "metadata": {},
   "outputs": [],
   "source": [
    "from sklearn.preprocessing import StandardScaler\n",
    "scale=StandardScaler()\n",
    "x_train=scale.fit_transform(x_train)\n",
    "x_test=scale.fit_transform(x_test)"
   ]
  },
  {
   "cell_type": "code",
   "execution_count": 167,
   "metadata": {},
   "outputs": [
    {
     "data": {
      "text/plain": [
       "array([4, 5, 1, 0, 1, 3, 6, 5, 5, 1, 6, 0, 0, 4, 1, 5, 4, 6, 3, 5, 5, 4,\n",
       "       6, 5, 5, 4, 1, 5, 4, 0, 4, 4, 4, 0, 1, 0, 3, 4, 4, 4, 5, 6, 3, 4,\n",
       "       5, 1, 3, 0, 4, 4, 5, 3, 3, 5, 4, 4, 0, 4, 4, 6, 5, 5, 3, 1, 3, 4,\n",
       "       5, 4, 4, 0, 6, 1, 4, 3, 3, 3, 4, 4, 0, 5, 0, 1, 6, 4, 0, 4, 1, 4,\n",
       "       1, 4, 5, 6, 3, 5, 5, 4, 4, 5, 6, 5, 0, 0, 0, 5], dtype=int32)"
      ]
     },
     "execution_count": 167,
     "metadata": {},
     "output_type": "execute_result"
    }
   ],
   "source": [
    "from sklearn.ensemble import RandomForestClassifier\n",
    "model=RandomForestClassifier(criterion='entropy',n_estimators=50)\n",
    "model.fit(x_train,y_train)\n",
    "y_pred1=model.predict(x_test)\n",
    "y_pred1"
   ]
  },
  {
   "cell_type": "code",
   "execution_count": 168,
   "metadata": {},
   "outputs": [
    {
     "data": {
      "text/plain": [
       "array([[15,  0,  0,  0,  0,  0,  0],\n",
       "       [ 0, 12,  0,  0,  0,  0,  1],\n",
       "       [ 0,  0,  0,  0,  0,  1,  0],\n",
       "       [ 0,  0,  0, 13,  0,  0,  0],\n",
       "       [ 0,  0,  0,  0, 31,  0,  0],\n",
       "       [ 0,  0,  0,  0,  0, 22,  0],\n",
       "       [ 0,  0,  0,  0,  0,  0,  9]])"
      ]
     },
     "execution_count": 168,
     "metadata": {},
     "output_type": "execute_result"
    }
   ],
   "source": [
    "from sklearn.metrics import confusion_matrix,ConfusionMatrixDisplay,accuracy_score,classification_report\n",
    "cm=confusion_matrix(y_test,y_pred1)\n",
    "cm"
   ]
  },
  {
   "cell_type": "code",
   "execution_count": 169,
   "metadata": {},
   "outputs": [
    {
     "data": {
      "text/plain": [
       "<sklearn.metrics._plot.confusion_matrix.ConfusionMatrixDisplay at 0x22f9fa50740>"
      ]
     },
     "execution_count": 169,
     "metadata": {},
     "output_type": "execute_result"
    },
    {
     "data": {
      "image/png": "[encoded data removed]",
      "text/plain": [
       "<Figure size 640x480 with 2 Axes>"
      ]
     },
     "metadata": {},
     "output_type": "display_data"
    }
   ],
   "source": [
    "cmd=ConfusionMatrixDisplay(cm,display_labels=[5, 6, 0, 4, 1, 3,2])\n",
    "cmd.plot()"
   ]
  },
  {
   "cell_type": "code",
   "execution_count": 170,
   "metadata": {},
   "outputs": [
    {
     "data": {
      "text/plain": [
       "0.9807692307692307"
      ]
     },
     "execution_count": 170,
     "metadata": {},
     "output_type": "execute_result"
    }
   ],
   "source": [
    "acc=accuracy_score(y_test,y_pred1)\n",
    "acc"
   ]
  },
  {
   "cell_type": "code",
   "execution_count": 171,
   "metadata": {},
   "outputs": [
    {
     "name": "stdout",
     "output_type": "stream",
     "text": [
      "              precision    recall  f1-score   support\n",
      "\n",
      "           0       1.00      1.00      1.00        15\n",
      "           1       1.00      0.92      0.96        13\n",
      "           2       0.00      0.00      0.00         1\n",
      "           3       1.00      1.00      1.00        13\n",
      "           4       1.00      1.00      1.00        31\n",
      "           5       0.96      1.00      0.98        22\n",
      "           6       0.90      1.00      0.95         9\n",
      "\n",
      "    accuracy                           0.98       104\n",
      "   macro avg       0.84      0.85      0.84       104\n",
      "weighted avg       0.97      0.98      0.98       104\n",
      "\n"
     ]
    },
    {
     "name": "stderr",
     "output_type": "stream",
     "text": [
      "c:\\Python312\\Lib\\site-packages\\sklearn\\metrics\\_classification.py:1565: UndefinedMetricWarning: Precision is ill-defined and being set to 0.0 in labels with no predicted samples. Use `zero_division` parameter to control this behavior.\n",
      "  _warn_prf(average, modifier, f\"{metric.capitalize()} is\", len(result))\n",
      "c:\\Python312\\Lib\\site-packages\\sklearn\\metrics\\_classification.py:1565: UndefinedMetricWarning: Precision is ill-defined and being set to 0.0 in labels with no predicted samples. Use `zero_division` parameter to control this behavior.\n",
      "  _warn_prf(average, modifier, f\"{metric.capitalize()} is\", len(result))\n",
      "c:\\Python312\\Lib\\site-packages\\sklearn\\metrics\\_classification.py:1565: UndefinedMetricWarning: Precision is ill-defined and being set to 0.0 in labels with no predicted samples. Use `zero_division` parameter to control this behavior.\n",
      "  _warn_prf(average, modifier, f\"{metric.capitalize()} is\", len(result))\n"
     ]
    }
   ],
   "source": [
    "cfr=classification_report(y_test,y_pred1)\n",
    "print(cfr)"
   ]
  },
  {
   "cell_type": "code",
   "execution_count": 172,
   "metadata": {},
   "outputs": [
    {
     "data": {
      "image/png": "[encoded data removed]",
      "text/plain": [
       "<Figure size 1500x1500 with 1 Axes>"
      ]
     },
     "metadata": {},
     "output_type": "display_data"
    }
   ],
   "source": [
    "from sklearn import tree\n",
    "individual_tree = model.estimators_[0]\n",
    "plt.figure(figsize=(15,15))\n",
    "tree.plot_tree(individual_tree,feature_names=df_encoded.columns,class_names=['5','6','0','4','1','3','2'],filled=True)\n",
    "plt.show()"
   ]
  }
 ],
 "metadata": {
  "kernelspec": {
   "display_name": "Python 3",
   "language": "python",
   "name": "python3"
  },
  "language_info": {
   "codemirror_mode": {
    "name": "ipython",
    "version": 3
   },
   "file_extension": ".py",
   "mimetype": "text/x-python",
   "name": "python",
   "nbconvert_exporter": "python",
   "pygments_lexer": "ipython3",
   "version": "3.12.2"
  }
 },
 "nbformat": 4,
 "nbformat_minor": 2
}
