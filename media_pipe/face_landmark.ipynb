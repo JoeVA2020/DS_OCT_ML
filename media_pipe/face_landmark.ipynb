{
 "cells": [
  {
   "cell_type": "code",
   "execution_count": 5,
   "id": "294241e1",
   "metadata": {},
   "outputs": [],
   "source": [
    "#face landmark\n",
    "\n",
    "import mediapipe as mp\n",
    "import cv2"
   ]
  },
  {
   "cell_type": "code",
   "execution_count": 6,
   "id": "fc0a7829",
   "metadata": {},
   "outputs": [],
   "source": [
    "mp_detect=mp.solutions.face_detection\n",
    "mp_drawing=mp.solutions.drawing_utils"
   ]
  },
  {
   "cell_type": "code",
   "execution_count": 7,
   "id": "7b978f71",
   "metadata": {},
   "outputs": [],
   "source": [
    "face_detect=mp_detect.FaceDetection()"
   ]
  },
  {
   "cell_type": "code",
   "execution_count": null,
   "id": "ddc851f2",
   "metadata": {},
   "outputs": [
    {
     "name": "stdout",
     "output_type": "stream",
     "text": [
      "[label_id: 0\n",
      "score: 0.960505128\n",
      "location_data {\n",
      "  format: RELATIVE_BOUNDING_BOX\n",
      "  relative_bounding_box {\n",
      "    xmin: 0.331895441\n",
      "    ymin: 0.215615079\n",
      "    width: 0.310020238\n",
      "    height: 0.413337409\n",
      "  }\n",
      "  relative_keypoints {\n",
      "    x: 0.431335032\n",
      "    y: 0.326689065\n",
      "  }\n",
      "  relative_keypoints {\n",
      "    x: 0.557301402\n",
      "    y: 0.327369034\n",
      "  }\n",
      "  relative_keypoints {\n",
      "    x: 0.500688553\n",
      "    y: 0.426924706\n",
      "  }\n",
      "  relative_keypoints {\n",
      "    x: 0.49690038\n",
      "    y: 0.51053828\n",
      "  }\n",
      "  relative_keypoints {\n",
      "    x: 0.349935472\n",
      "    y: 0.366586685\n",
      "  }\n",
      "  relative_keypoints {\n",
      "    x: 0.61645025\n",
      "    y: 0.368954957\n",
      "  }\n",
      "}\n",
      "]\n"
     ]
    }
   ],
   "source": [
    "video=cv2.VideoCapture(1)\n",
    "while True:\n",
    "    suc,img=video.read()\n",
    "    img1=cv2.cvtColor(img,cv2.COLOR_BGR2RGB)\n",
    "    result=face_detect.process(img1)\n",
    "    print(result.detections)\n",
    "    if result.detections:\n",
    "        for x in result.detections:\n",
    "            mp_drawing.draw_detection(img,x)\n",
    "            \n",
    "    cv2.imshow(\"Face\",img)\n",
    "    if cv2.waitKey(1) & 0XFF==ord('q'):\n",
    "        break\n",
    "video.release()\n",
    "cv2.destroyAllWindows()"
   ]
  },
  {
   "cell_type": "code",
   "execution_count": null,
   "id": "d7938040",
   "metadata": {},
   "outputs": [],
   "source": []
  }
 ],
 "metadata": {
  "kernelspec": {
   "display_name": "Python 3",
   "language": "python",
   "name": "python3"
  },
  "language_info": {
   "codemirror_mode": {
    "name": "ipython",
    "version": 3
   },
   "file_extension": ".py",
   "mimetype": "text/x-python",
   "name": "python",
   "nbconvert_exporter": "python",
   "pygments_lexer": "ipython3",
   "version": "3.12.2"
  }
 },
 "nbformat": 4,
 "nbformat_minor": 5
}
