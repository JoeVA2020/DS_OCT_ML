{
 "cells": [
  {
   "cell_type": "code",
   "execution_count": 4,
   "id": "bbdef3f1",
   "metadata": {},
   "outputs": [],
   "source": [
    "import mediapipe as mp\n",
    "import cv2"
   ]
  },
  {
   "cell_type": "code",
   "execution_count": 5,
   "id": "2965b908",
   "metadata": {},
   "outputs": [],
   "source": [
    "mp_face_mesh = mp.solutions.face_mesh\n",
    "mp_drawing = mp.solutions.drawing_utils"
   ]
  },
  {
   "cell_type": "code",
   "execution_count": 6,
   "id": "fadd4e6d",
   "metadata": {},
   "outputs": [],
   "source": [
    "face_mesh = mp_face_mesh.FaceMesh()"
   ]
  },
  {
   "cell_type": "code",
   "execution_count": 7,
   "id": "bb911729",
   "metadata": {},
   "outputs": [],
   "source": [
    "video=cv2.VideoCapture(1)\n",
    "while True:\n",
    "    suc,img=video.read()\n",
    "    img1=cv2.cvtColor(img,cv2.COLOR_BGR2RGB)\n",
    "    result = face_mesh.process(img1)\n",
    "    if result.multi_face_landmarks:\n",
    "        for face_landmarks in result.multi_face_landmarks:\n",
    "            mp_drawing.draw_landmarks(\n",
    "                image=img,\n",
    "                landmark_list=face_landmarks,\n",
    "                connections=mp_face_mesh.FACEMESH_TESSELATION)\n",
    "            \n",
    "    cv2.imshow(\"Hands\",img)\n",
    "    if cv2.waitKey(1) & 0XFF==ord('q'):\n",
    "        break\n",
    "video.release()\n",
    "cv2.destroyAllWindows()\n"
   ]
  }
 ],
 "metadata": {
  "kernelspec": {
   "display_name": "Python 3",
   "language": "python",
   "name": "python3"
  },
  "language_info": {
   "codemirror_mode": {
    "name": "ipython",
    "version": 3
   },
   "file_extension": ".py",
   "mimetype": "text/x-python",
   "name": "python",
   "nbconvert_exporter": "python",
   "pygments_lexer": "ipython3",
   "version": "3.12.2"
  }
 },
 "nbformat": 4,
 "nbformat_minor": 5
}
