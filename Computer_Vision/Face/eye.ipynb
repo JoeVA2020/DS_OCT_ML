{
 "cells": [
  {
   "cell_type": "code",
   "execution_count": 3,
   "id": "76a9f4bf",
   "metadata": {},
   "outputs": [],
   "source": [
    "import cv2"
   ]
  },
  {
   "cell_type": "code",
   "execution_count": 4,
   "id": "ff28dc3e",
   "metadata": {},
   "outputs": [
    {
     "data": {
      "text/plain": [
       "< cv2.CascadeClassifier 000002028C4F1E30>"
      ]
     },
     "execution_count": 4,
     "metadata": {},
     "output_type": "execute_result"
    }
   ],
   "source": [
    "eye_cas=cv2.CascadeClassifier('haarcascade_eye_tree_eyeglasses.xml')\n",
    "eye_cas"
   ]
  },
  {
   "cell_type": "code",
   "execution_count": 5,
   "id": "a7c2dec0",
   "metadata": {},
   "outputs": [],
   "source": [
    "video=cv2.VideoCapture(0)\n",
    "while True:\n",
    "    sucess,img=video.read()\n",
    "    gray=cv2.cvtColor(img,cv2.COLOR_BGR2GRAY)\n",
    "    eyes=eye_cas.detectMultiScale(gray,minNeighbors=10)\n",
    "    \n",
    "    for(x,y,w,h) in eyes:\n",
    "        cv2.rectangle(img,(x,y),(x+w,y+h),(0,0,255),4)\n",
    "        \n",
    "    cv2.imshow('Video',img)\n",
    "    if cv2.waitKey(1)&0XFF==ord('q'):\n",
    "        break\n",
    "video.release()\n",
    "cv2.destroyAllWindows()"
   ]
  }
 ],
 "metadata": {
  "kernelspec": {
   "display_name": "Python 3",
   "language": "python",
   "name": "python3"
  },
  "language_info": {
   "codemirror_mode": {
    "name": "ipython",
    "version": 3
   },
   "file_extension": ".py",
   "mimetype": "text/x-python",
   "name": "python",
   "nbconvert_exporter": "python",
   "pygments_lexer": "ipython3",
   "version": "3.12.2"
  }
 },
 "nbformat": 4,
 "nbformat_minor": 5
}
