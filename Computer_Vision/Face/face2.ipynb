{
 "cells": [
  {
   "cell_type": "code",
   "execution_count": 5,
   "id": "d0ad962f",
   "metadata": {},
   "outputs": [],
   "source": [
    "import cv2"
   ]
  },
  {
   "cell_type": "code",
   "execution_count": 6,
   "id": "04d56a1f",
   "metadata": {},
   "outputs": [
    {
     "data": {
      "text/plain": [
       "< cv2.CascadeClassifier 0000024AD3A0ED70>"
      ]
     },
     "execution_count": 6,
     "metadata": {},
     "output_type": "execute_result"
    }
   ],
   "source": [
    "face_cas=cv2.CascadeClassifier('haarcascade_frontalface_default.xml')\n",
    "face_cas"
   ]
  },
  {
   "cell_type": "code",
   "execution_count": 7,
   "id": "6851fce6",
   "metadata": {},
   "outputs": [
    {
     "name": "stdout",
     "output_type": "stream",
     "text": [
      "Finished\n"
     ]
    }
   ],
   "source": [
    "video=cv2.VideoCapture('VID_20250422_131449.mp4')\n",
    "while True:\n",
    "    sucess,img=video.read()\n",
    "    if sucess:\n",
    "        gray_img=cv2.cvtColor(img,cv2.COLOR_BGR2GRAY)\n",
    "        faces=face_cas.detectMultiScale(gray_img,minNeighbors=10)\n",
    "        for(x,y,w,h) in faces:\n",
    "            cv2.rectangle(img,(x,y),(x+w,y+h),(255,0,0),4)\n",
    "        cv2.imshow(\"VIDEO\",img)\n",
    "        if cv2.waitKey(1)&0XFF==ord('q'):\n",
    "            break\n",
    "    else:\n",
    "        print(\"Finished\")\n",
    "        break\n",
    "video.release()\n",
    "cv2.destroyAllWindows()"
   ]
  },
  {
   "cell_type": "code",
   "execution_count": 8,
   "id": "5a2b3d9e",
   "metadata": {},
   "outputs": [
    {
     "data": {
      "text/plain": [
       "False"
      ]
     },
     "execution_count": 8,
     "metadata": {},
     "output_type": "execute_result"
    }
   ],
   "source": [
    "sucess"
   ]
  }
 ],
 "metadata": {
  "kernelspec": {
   "display_name": "Python 3",
   "language": "python",
   "name": "python3"
  },
  "language_info": {
   "codemirror_mode": {
    "name": "ipython",
    "version": 3
   },
   "file_extension": ".py",
   "mimetype": "text/x-python",
   "name": "python",
   "nbconvert_exporter": "python",
   "pygments_lexer": "ipython3",
   "version": "3.12.2"
  }
 },
 "nbformat": 4,
 "nbformat_minor": 5
}
