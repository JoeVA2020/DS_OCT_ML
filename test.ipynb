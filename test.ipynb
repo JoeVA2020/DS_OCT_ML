{
 "cells": [
  {
   "cell_type": "code",
   "execution_count": 3,
   "metadata": {},
   "outputs": [
    {
     "data": {
      "text/html": [
       "<div>\n",
       "<style scoped>\n",
       "    .dataframe tbody tr th:only-of-type {\n",
       "        vertical-align: middle;\n",
       "    }\n",
       "\n",
       "    .dataframe tbody tr th {\n",
       "        vertical-align: top;\n",
       "    }\n",
       "\n",
       "    .dataframe thead th {\n",
       "        text-align: right;\n",
       "    }\n",
       "</style>\n",
       "<table border=\"1\" class=\"dataframe\">\n",
       "  <thead>\n",
       "    <tr style=\"text-align: right;\">\n",
       "      <th></th>\n",
       "      <th>POSITION;NUMBER;TEAM;DRIVER_1;DRIVER_2;DRIVER_3;DRIVER_4;VEHICLE;TYRES;CLASS;GROUP;DIVISION;STATUS;LAPS;TOTAL_TIME;GAP_FIRST;GAP_PREVIOUS;FL_LAPNUM;FL_TIME;FL_KPH;DRIVER_5;</th>\n",
       "    </tr>\n",
       "  </thead>\n",
       "  <tbody>\n",
       "    <tr>\n",
       "      <th>0</th>\n",
       "      <td>1;8;Toyota Gazoo Racing;Sébastien BUEMI;Brendo...</td>\n",
       "    </tr>\n",
       "    <tr>\n",
       "      <th>1</th>\n",
       "      <td>2;51;Ferrari AF Corse;Alessandro PIER GUIDI;Ja...</td>\n",
       "    </tr>\n",
       "    <tr>\n",
       "      <th>2</th>\n",
       "      <td>3;7;Toyota Gazoo Racing;Mike CONWAY;Kamui KOBA...</td>\n",
       "    </tr>\n",
       "    <tr>\n",
       "      <th>3</th>\n",
       "      <td>4;75;Porsche Penske Motorsport;Felipe NASR;Mat...</td>\n",
       "    </tr>\n",
       "    <tr>\n",
       "      <th>4</th>\n",
       "      <td>5;6;Porsche Penske Motorsport;Kévin ESTRE;Andr...</td>\n",
       "    </tr>\n",
       "    <tr>\n",
       "      <th>...</th>\n",
       "      <td>...</td>\n",
       "    </tr>\n",
       "    <tr>\n",
       "      <th>57</th>\n",
       "      <td>58;98;Northwest AMR;Ian JAMES;Daniel MANCINELL...</td>\n",
       "    </tr>\n",
       "    <tr>\n",
       "      <th>58</th>\n",
       "      <td>59;16;Proton Competition;Ryan HARDWICK;Zachari...</td>\n",
       "    </tr>\n",
       "    <tr>\n",
       "      <th>59</th>\n",
       "      <td>60;708;Glickenhaus Racing;Romain DUMAS;Ryan BR...</td>\n",
       "    </tr>\n",
       "    <tr>\n",
       "      <th>60</th>\n",
       "      <td>61;32;Inter Europol Competition;Mark KVAMME;Ja...</td>\n",
       "    </tr>\n",
       "    <tr>\n",
       "      <th>61</th>\n",
       "      <td>62;311;Action Express Racing;Luis Felipe DERAN...</td>\n",
       "    </tr>\n",
       "  </tbody>\n",
       "</table>\n",
       "<p>62 rows × 1 columns</p>\n",
       "</div>"
      ],
      "text/plain": [
       "   POSITION;NUMBER;TEAM;DRIVER_1;DRIVER_2;DRIVER_3;DRIVER_4;VEHICLE;TYRES;CLASS;GROUP;DIVISION;STATUS;LAPS;TOTAL_TIME;GAP_FIRST;GAP_PREVIOUS;FL_LAPNUM;FL_TIME;FL_KPH;DRIVER_5;\n",
       "0   1;8;Toyota Gazoo Racing;Sébastien BUEMI;Brendo...                                                                                                                          \n",
       "1   2;51;Ferrari AF Corse;Alessandro PIER GUIDI;Ja...                                                                                                                          \n",
       "2   3;7;Toyota Gazoo Racing;Mike CONWAY;Kamui KOBA...                                                                                                                          \n",
       "3   4;75;Porsche Penske Motorsport;Felipe NASR;Mat...                                                                                                                          \n",
       "4   5;6;Porsche Penske Motorsport;Kévin ESTRE;Andr...                                                                                                                          \n",
       "..                                                ...                                                                                                                          \n",
       "57  58;98;Northwest AMR;Ian JAMES;Daniel MANCINELL...                                                                                                                          \n",
       "58  59;16;Proton Competition;Ryan HARDWICK;Zachari...                                                                                                                          \n",
       "59  60;708;Glickenhaus Racing;Romain DUMAS;Ryan BR...                                                                                                                          \n",
       "60  61;32;Inter Europol Competition;Mark KVAMME;Ja...                                                                                                                          \n",
       "61  62;311;Action Express Racing;Luis Felipe DERAN...                                                                                                                          \n",
       "\n",
       "[62 rows x 1 columns]"
      ]
     },
     "execution_count": 3,
     "metadata": {},
     "output_type": "execute_result"
    }
   ],
   "source": [
    "import numpy as np\n",
    "import pandas as pd\n",
    "\n",
    "df=pd.read_csv('Classification_Race_Hour1.csv')\n",
    "df"
   ]
  },
  {
   "cell_type": "code",
   "execution_count": 4,
   "metadata": {},
   "outputs": [
    {
     "data": {
      "text/plain": [
       "(62, 1)"
      ]
     },
     "execution_count": 4,
     "metadata": {},
     "output_type": "execute_result"
    }
   ],
   "source": [
    "df.shape"
   ]
  }
 ],
 "metadata": {
  "kernelspec": {
   "display_name": "Python 3",
   "language": "python",
   "name": "python3"
  },
  "language_info": {
   "codemirror_mode": {
    "name": "ipython",
    "version": 3
   },
   "file_extension": ".py",
   "mimetype": "text/x-python",
   "name": "python",
   "nbconvert_exporter": "python",
   "pygments_lexer": "ipython3",
   "version": "3.12.2"
  }
 },
 "nbformat": 4,
 "nbformat_minor": 2
}
